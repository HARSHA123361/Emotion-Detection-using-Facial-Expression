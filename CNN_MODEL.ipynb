{
  "nbformat": 4,
  "nbformat_minor": 0,
  "metadata": {
    "colab": {
      "provenance": []
    },
    "kernelspec": {
      "name": "python3",
      "display_name": "Python 3"
    },
    "language_info": {
      "name": "python"
    },
    "accelerator": "GPU",
    "gpuClass": "standard"
  },
  "cells": [
    {
      "cell_type": "code",
      "execution_count": null,
      "metadata": {
        "colab": {
          "base_uri": "https://localhost:8080/"
        },
        "id": "GewkFg5y17UL",
        "outputId": "30e2a0b0-a025-4081-823a-1ec66c17fecb"
      },
      "outputs": [
        {
          "output_type": "stream",
          "name": "stdout",
          "text": [
            "Looking in indexes: https://pypi.org/simple, https://us-python.pkg.dev/colab-wheels/public/simple/\n",
            "Collecting opendatasets\n",
            "  Downloading opendatasets-0.1.22-py3-none-any.whl (15 kB)\n",
            "Requirement already satisfied: kaggle in /usr/local/lib/python3.7/dist-packages (from opendatasets) (1.5.12)\n",
            "Requirement already satisfied: click in /usr/local/lib/python3.7/dist-packages (from opendatasets) (7.1.2)\n",
            "Requirement already satisfied: tqdm in /usr/local/lib/python3.7/dist-packages (from opendatasets) (4.64.1)\n",
            "Requirement already satisfied: six>=1.10 in /usr/local/lib/python3.7/dist-packages (from kaggle->opendatasets) (1.15.0)\n",
            "Requirement already satisfied: certifi in /usr/local/lib/python3.7/dist-packages (from kaggle->opendatasets) (2022.9.24)\n",
            "Requirement already satisfied: python-dateutil in /usr/local/lib/python3.7/dist-packages (from kaggle->opendatasets) (2.8.2)\n",
            "Requirement already satisfied: python-slugify in /usr/local/lib/python3.7/dist-packages (from kaggle->opendatasets) (6.1.2)\n",
            "Requirement already satisfied: requests in /usr/local/lib/python3.7/dist-packages (from kaggle->opendatasets) (2.23.0)\n",
            "Requirement already satisfied: urllib3 in /usr/local/lib/python3.7/dist-packages (from kaggle->opendatasets) (1.24.3)\n",
            "Requirement already satisfied: text-unidecode>=1.3 in /usr/local/lib/python3.7/dist-packages (from python-slugify->kaggle->opendatasets) (1.3)\n",
            "Requirement already satisfied: chardet<4,>=3.0.2 in /usr/local/lib/python3.7/dist-packages (from requests->kaggle->opendatasets) (3.0.4)\n",
            "Requirement already satisfied: idna<3,>=2.5 in /usr/local/lib/python3.7/dist-packages (from requests->kaggle->opendatasets) (2.10)\n",
            "Installing collected packages: opendatasets\n",
            "Successfully installed opendatasets-0.1.22\n"
          ]
        }
      ],
      "source": [
        "!pip install opendatasets"
      ]
    },
    {
      "cell_type": "code",
      "source": [
        "!pip install pandas"
      ],
      "metadata": {
        "colab": {
          "base_uri": "https://localhost:8080/"
        },
        "id": "9OLPGTxx21e3",
        "outputId": "c0d2d521-f33e-422d-dc5a-62f89c05946d"
      },
      "execution_count": null,
      "outputs": [
        {
          "output_type": "stream",
          "name": "stdout",
          "text": [
            "Looking in indexes: https://pypi.org/simple, https://us-python.pkg.dev/colab-wheels/public/simple/\n",
            "Requirement already satisfied: pandas in /usr/local/lib/python3.7/dist-packages (1.3.5)\n",
            "Requirement already satisfied: pytz>=2017.3 in /usr/local/lib/python3.7/dist-packages (from pandas) (2022.6)\n",
            "Requirement already satisfied: numpy>=1.17.3 in /usr/local/lib/python3.7/dist-packages (from pandas) (1.21.6)\n",
            "Requirement already satisfied: python-dateutil>=2.7.3 in /usr/local/lib/python3.7/dist-packages (from pandas) (2.8.2)\n",
            "Requirement already satisfied: six>=1.5 in /usr/local/lib/python3.7/dist-packages (from python-dateutil>=2.7.3->pandas) (1.15.0)\n"
          ]
        }
      ]
    },
    {
      "cell_type": "code",
      "source": [
        "import opendatasets as od\n",
        "import pandas\n",
        "  \n",
        "od.download(\n",
        "    \"https://www.kaggle.com/datasets/ahmedmoorsy/facial-expression\")"
      ],
      "metadata": {
        "colab": {
          "base_uri": "https://localhost:8080/"
        },
        "id": "LJXLeBXC26Mr",
        "outputId": "5c5a5113-dece-4b9d-9e5e-e1cb159391d1"
      },
      "execution_count": null,
      "outputs": [
        {
          "output_type": "stream",
          "name": "stdout",
          "text": [
            "Please provide your Kaggle credentials to download this dataset. Learn more: http://bit.ly/kaggle-creds\n",
            "Your Kaggle username: maharajmahaadev2\n",
            "Your Kaggle Key: ··········\n",
            "Downloading facial-expression.zip to ./facial-expression\n"
          ]
        },
        {
          "output_type": "stream",
          "name": "stderr",
          "text": [
            "100%|██████████| 193M/193M [00:14<00:00, 13.8MB/s]\n"
          ]
        },
        {
          "output_type": "stream",
          "name": "stdout",
          "text": [
            "\n"
          ]
        }
      ]
    },
    {
      "cell_type": "code",
      "source": [
        "import numpy as np # linear algebra\n",
        "import pandas as pd "
      ],
      "metadata": {
        "id": "gB1gHvZY29e7"
      },
      "execution_count": null,
      "outputs": []
    },
    {
      "cell_type": "code",
      "source": [
        "import tensorflow as tf\n",
        "\n",
        "import keras\n",
        "from keras.models import Sequential\n",
        "from keras.layers import Conv2D, MaxPooling2D, AveragePooling2D\n",
        "from keras.layers import Dense, Activation, Dropout, Flatten\n",
        "\n",
        "from keras.preprocessing import image\n",
        "from keras.preprocessing.image import ImageDataGenerator\n",
        "import pandas as pd\n",
        "import numpy as np\n",
        "import matplotlib.pyplot as plt"
      ],
      "metadata": {
        "id": "KmwTh5Fg3pLX"
      },
      "execution_count": null,
      "outputs": []
    },
    {
      "cell_type": "code",
      "source": [
        "filname = '/content/facial-expression/fer2013.csv'\n",
        "label_map = ['Anger', 'Disgust', 'Fear', 'Happy', 'Sad', 'Surprise', 'Neutral']\n",
        "names=['emotion','pixels','usage']\n",
        "df=pd.read_csv('/content/facial-expression/fer2013.csv',names=names, na_filter=False)\n",
        "im=df['pixels']\n",
        "df.head(10)"
      ],
      "metadata": {
        "id": "hkPMoazY3rc3",
        "colab": {
          "base_uri": "https://localhost:8080/",
          "height": 363
        },
        "outputId": "23879f38-4aea-4cdd-a35e-1e043af2c9c5"
      },
      "execution_count": null,
      "outputs": [
        {
          "output_type": "execute_result",
          "data": {
            "text/plain": [
              "   emotion                                             pixels     usage\n",
              "0  emotion                                             pixels     Usage\n",
              "1        0  70 80 82 72 58 58 60 63 54 58 60 48 89 115 121...  Training\n",
              "2        0  151 150 147 155 148 133 111 140 170 174 182 15...  Training\n",
              "3        2  231 212 156 164 174 138 161 173 182 200 106 38...  Training\n",
              "4        4  24 32 36 30 32 23 19 20 30 41 21 22 32 34 21 1...  Training\n",
              "5        6  4 0 0 0 0 0 0 0 0 0 0 0 3 15 23 28 48 50 58 84...  Training\n",
              "6        2  55 55 55 55 55 54 60 68 54 85 151 163 170 179 ...  Training\n",
              "7        4  20 17 19 21 25 38 42 42 46 54 56 62 63 66 82 1...  Training\n",
              "8        3  77 78 79 79 78 75 60 55 47 48 58 73 77 79 57 5...  Training\n",
              "9        3  85 84 90 121 101 102 133 153 153 169 177 189 1...  Training"
            ],
            "text/html": [
              "\n",
              "  <div id=\"df-c6149bc4-5750-4a82-a731-a30c80d63901\">\n",
              "    <div class=\"colab-df-container\">\n",
              "      <div>\n",
              "<style scoped>\n",
              "    .dataframe tbody tr th:only-of-type {\n",
              "        vertical-align: middle;\n",
              "    }\n",
              "\n",
              "    .dataframe tbody tr th {\n",
              "        vertical-align: top;\n",
              "    }\n",
              "\n",
              "    .dataframe thead th {\n",
              "        text-align: right;\n",
              "    }\n",
              "</style>\n",
              "<table border=\"1\" class=\"dataframe\">\n",
              "  <thead>\n",
              "    <tr style=\"text-align: right;\">\n",
              "      <th></th>\n",
              "      <th>emotion</th>\n",
              "      <th>pixels</th>\n",
              "      <th>usage</th>\n",
              "    </tr>\n",
              "  </thead>\n",
              "  <tbody>\n",
              "    <tr>\n",
              "      <th>0</th>\n",
              "      <td>emotion</td>\n",
              "      <td>pixels</td>\n",
              "      <td>Usage</td>\n",
              "    </tr>\n",
              "    <tr>\n",
              "      <th>1</th>\n",
              "      <td>0</td>\n",
              "      <td>70 80 82 72 58 58 60 63 54 58 60 48 89 115 121...</td>\n",
              "      <td>Training</td>\n",
              "    </tr>\n",
              "    <tr>\n",
              "      <th>2</th>\n",
              "      <td>0</td>\n",
              "      <td>151 150 147 155 148 133 111 140 170 174 182 15...</td>\n",
              "      <td>Training</td>\n",
              "    </tr>\n",
              "    <tr>\n",
              "      <th>3</th>\n",
              "      <td>2</td>\n",
              "      <td>231 212 156 164 174 138 161 173 182 200 106 38...</td>\n",
              "      <td>Training</td>\n",
              "    </tr>\n",
              "    <tr>\n",
              "      <th>4</th>\n",
              "      <td>4</td>\n",
              "      <td>24 32 36 30 32 23 19 20 30 41 21 22 32 34 21 1...</td>\n",
              "      <td>Training</td>\n",
              "    </tr>\n",
              "    <tr>\n",
              "      <th>5</th>\n",
              "      <td>6</td>\n",
              "      <td>4 0 0 0 0 0 0 0 0 0 0 0 3 15 23 28 48 50 58 84...</td>\n",
              "      <td>Training</td>\n",
              "    </tr>\n",
              "    <tr>\n",
              "      <th>6</th>\n",
              "      <td>2</td>\n",
              "      <td>55 55 55 55 55 54 60 68 54 85 151 163 170 179 ...</td>\n",
              "      <td>Training</td>\n",
              "    </tr>\n",
              "    <tr>\n",
              "      <th>7</th>\n",
              "      <td>4</td>\n",
              "      <td>20 17 19 21 25 38 42 42 46 54 56 62 63 66 82 1...</td>\n",
              "      <td>Training</td>\n",
              "    </tr>\n",
              "    <tr>\n",
              "      <th>8</th>\n",
              "      <td>3</td>\n",
              "      <td>77 78 79 79 78 75 60 55 47 48 58 73 77 79 57 5...</td>\n",
              "      <td>Training</td>\n",
              "    </tr>\n",
              "    <tr>\n",
              "      <th>9</th>\n",
              "      <td>3</td>\n",
              "      <td>85 84 90 121 101 102 133 153 153 169 177 189 1...</td>\n",
              "      <td>Training</td>\n",
              "    </tr>\n",
              "  </tbody>\n",
              "</table>\n",
              "</div>\n",
              "      <button class=\"colab-df-convert\" onclick=\"convertToInteractive('df-c6149bc4-5750-4a82-a731-a30c80d63901')\"\n",
              "              title=\"Convert this dataframe to an interactive table.\"\n",
              "              style=\"display:none;\">\n",
              "        \n",
              "  <svg xmlns=\"http://www.w3.org/2000/svg\" height=\"24px\"viewBox=\"0 0 24 24\"\n",
              "       width=\"24px\">\n",
              "    <path d=\"M0 0h24v24H0V0z\" fill=\"none\"/>\n",
              "    <path d=\"M18.56 5.44l.94 2.06.94-2.06 2.06-.94-2.06-.94-.94-2.06-.94 2.06-2.06.94zm-11 1L8.5 8.5l.94-2.06 2.06-.94-2.06-.94L8.5 2.5l-.94 2.06-2.06.94zm10 10l.94 2.06.94-2.06 2.06-.94-2.06-.94-.94-2.06-.94 2.06-2.06.94z\"/><path d=\"M17.41 7.96l-1.37-1.37c-.4-.4-.92-.59-1.43-.59-.52 0-1.04.2-1.43.59L10.3 9.45l-7.72 7.72c-.78.78-.78 2.05 0 2.83L4 21.41c.39.39.9.59 1.41.59.51 0 1.02-.2 1.41-.59l7.78-7.78 2.81-2.81c.8-.78.8-2.07 0-2.86zM5.41 20L4 18.59l7.72-7.72 1.47 1.35L5.41 20z\"/>\n",
              "  </svg>\n",
              "      </button>\n",
              "      \n",
              "  <style>\n",
              "    .colab-df-container {\n",
              "      display:flex;\n",
              "      flex-wrap:wrap;\n",
              "      gap: 12px;\n",
              "    }\n",
              "\n",
              "    .colab-df-convert {\n",
              "      background-color: #E8F0FE;\n",
              "      border: none;\n",
              "      border-radius: 50%;\n",
              "      cursor: pointer;\n",
              "      display: none;\n",
              "      fill: #1967D2;\n",
              "      height: 32px;\n",
              "      padding: 0 0 0 0;\n",
              "      width: 32px;\n",
              "    }\n",
              "\n",
              "    .colab-df-convert:hover {\n",
              "      background-color: #E2EBFA;\n",
              "      box-shadow: 0px 1px 2px rgba(60, 64, 67, 0.3), 0px 1px 3px 1px rgba(60, 64, 67, 0.15);\n",
              "      fill: #174EA6;\n",
              "    }\n",
              "\n",
              "    [theme=dark] .colab-df-convert {\n",
              "      background-color: #3B4455;\n",
              "      fill: #D2E3FC;\n",
              "    }\n",
              "\n",
              "    [theme=dark] .colab-df-convert:hover {\n",
              "      background-color: #434B5C;\n",
              "      box-shadow: 0px 1px 3px 1px rgba(0, 0, 0, 0.15);\n",
              "      filter: drop-shadow(0px 1px 2px rgba(0, 0, 0, 0.3));\n",
              "      fill: #FFFFFF;\n",
              "    }\n",
              "  </style>\n",
              "\n",
              "      <script>\n",
              "        const buttonEl =\n",
              "          document.querySelector('#df-c6149bc4-5750-4a82-a731-a30c80d63901 button.colab-df-convert');\n",
              "        buttonEl.style.display =\n",
              "          google.colab.kernel.accessAllowed ? 'block' : 'none';\n",
              "\n",
              "        async function convertToInteractive(key) {\n",
              "          const element = document.querySelector('#df-c6149bc4-5750-4a82-a731-a30c80d63901');\n",
              "          const dataTable =\n",
              "            await google.colab.kernel.invokeFunction('convertToInteractive',\n",
              "                                                     [key], {});\n",
              "          if (!dataTable) return;\n",
              "\n",
              "          const docLinkHtml = 'Like what you see? Visit the ' +\n",
              "            '<a target=\"_blank\" href=https://colab.research.google.com/notebooks/data_table.ipynb>data table notebook</a>'\n",
              "            + ' to learn more about interactive tables.';\n",
              "          element.innerHTML = '';\n",
              "          dataTable['output_type'] = 'display_data';\n",
              "          await google.colab.output.renderOutput(dataTable, element);\n",
              "          const docLink = document.createElement('div');\n",
              "          docLink.innerHTML = docLinkHtml;\n",
              "          element.appendChild(docLink);\n",
              "        }\n",
              "      </script>\n",
              "    </div>\n",
              "  </div>\n",
              "  "
            ]
          },
          "metadata": {},
          "execution_count": 7
        }
      ]
    },
    {
      "cell_type": "code",
      "source": [
        "def getData(filname):\n",
        "    # images are 48x48\n",
        "    # N = 35887\n",
        "    Y = []\n",
        "    X = []\n",
        "    first = True\n",
        "    for line in open(filname):\n",
        "        if first:\n",
        "            first = False\n",
        "        else:\n",
        "            row = line.split(',')\n",
        "            Y.append(int(row[0]))\n",
        "            X.append([int(p) for p in row[1].split()])\n",
        "\n",
        "    X, Y = np.array(X) / 255.0, np.array(Y)\n",
        "    return X, Y"
      ],
      "metadata": {
        "id": "L6Vu4j124Bpr"
      },
      "execution_count": null,
      "outputs": []
    },
    {
      "cell_type": "code",
      "source": [
        "X, Y = getData(filname)\n",
        "num_class = len(set(Y))\n",
        "print(num_class)"
      ],
      "metadata": {
        "id": "S-k42QFo4PXX",
        "colab": {
          "base_uri": "https://localhost:8080/"
        },
        "outputId": "59130c88-1683-4674-c317-23d2abce2d46"
      },
      "execution_count": null,
      "outputs": [
        {
          "output_type": "stream",
          "name": "stdout",
          "text": [
            "7\n"
          ]
        }
      ]
    },
    {
      "cell_type": "code",
      "source": [
        "N, D = X.shape\n",
        "X = X.reshape(N, 48, 48, 1)"
      ],
      "metadata": {
        "id": "FqG4T59o4RNh"
      },
      "execution_count": null,
      "outputs": []
    },
    {
      "cell_type": "code",
      "source": [
        "from sklearn.model_selection import train_test_split\n",
        "\n",
        "X_train, X_test, y_train, y_test = train_test_split(X, Y, test_size=0.1, random_state=0)\n",
        "y_train = (np.arange(num_class) == y_train[:, None]).astype(np.float32)\n",
        "y_test = (np.arange(num_class) == y_test[:, None]).astype(np.float32)"
      ],
      "metadata": {
        "id": "4mnQd7Jm4TRF"
      },
      "execution_count": null,
      "outputs": []
    },
    {
      "cell_type": "code",
      "source": [
        "from keras.models import Sequential\n",
        "from keras.layers import Dense , Activation , Dropout ,Flatten\n",
        "from keras.layers.convolutional import Conv2D\n",
        "from keras.layers.convolutional import MaxPooling2D\n",
        "from keras.metrics import categorical_accuracy\n",
        "from keras.models import model_from_json\n",
        "from keras.callbacks import ModelCheckpoint\n",
        "from keras.optimizers import *\n",
        "from keras.layers import BatchNormalization"
      ],
      "metadata": {
        "id": "Xs61VEtP4VVw"
      },
      "execution_count": null,
      "outputs": []
    },
    {
      "cell_type": "code",
      "source": [
        "def my_model():\n",
        "    model = Sequential()\n",
        "    input_shape = (48,48,1)\n",
        "    model.add(Conv2D(64, (5, 5), input_shape=input_shape,activation='relu', padding='same'))\n",
        "    model.add(Conv2D(64, (5, 5), activation='relu', padding='same'))\n",
        "    model.add(BatchNormalization())\n",
        "    model.add(MaxPooling2D(pool_size=(2, 2)))\n",
        "\n",
        "    model.add(Conv2D(128, (5, 5),activation='relu',padding='same'))\n",
        "    model.add(Conv2D(128, (5, 5),activation='relu',padding='same'))\n",
        "    model.add(BatchNormalization())\n",
        "    model.add(MaxPooling2D(pool_size=(2, 2)))\n",
        "\n",
        "    model.add(Conv2D(256, (3, 3),activation='relu',padding='same'))\n",
        "    model.add(Conv2D(256, (3, 3),activation='relu',padding='same'))\n",
        "    model.add(BatchNormalization())\n",
        "    model.add(MaxPooling2D(pool_size=(2, 2)))\n",
        "\n",
        "    model.add(Flatten())\n",
        "    model.add(Dense(128))\n",
        "    model.add(BatchNormalization())\n",
        "    model.add(Activation('relu'))\n",
        "    model.add(Dropout(0.2))\n",
        "    model.add(Dense(7))\n",
        "    model.add(Activation('softmax'))\n",
        "    \n",
        "    model.compile(loss='categorical_crossentropy', metrics=['accuracy'],optimizer='adam')\n",
        "    # UNCOMMENT THIS TO VIEW THE ARCHITECTURE\n",
        "    #model.summary()\n",
        "    \n",
        "    return model\n",
        "model=my_model()\n",
        "model.summary()"
      ],
      "metadata": {
        "id": "JESdyuOk4Xzo",
        "colab": {
          "base_uri": "https://localhost:8080/"
        },
        "outputId": "db3b315e-7015-4982-afbc-3dec684230d9"
      },
      "execution_count": null,
      "outputs": [
        {
          "output_type": "stream",
          "name": "stdout",
          "text": [
            "Model: \"sequential\"\n",
            "_________________________________________________________________\n",
            " Layer (type)                Output Shape              Param #   \n",
            "=================================================================\n",
            " conv2d (Conv2D)             (None, 48, 48, 64)        1664      \n",
            "                                                                 \n",
            " conv2d_1 (Conv2D)           (None, 48, 48, 64)        102464    \n",
            "                                                                 \n",
            " batch_normalization (BatchN  (None, 48, 48, 64)       256       \n",
            " ormalization)                                                   \n",
            "                                                                 \n",
            " max_pooling2d (MaxPooling2D  (None, 24, 24, 64)       0         \n",
            " )                                                               \n",
            "                                                                 \n",
            " conv2d_2 (Conv2D)           (None, 24, 24, 128)       204928    \n",
            "                                                                 \n",
            " conv2d_3 (Conv2D)           (None, 24, 24, 128)       409728    \n",
            "                                                                 \n",
            " batch_normalization_1 (Batc  (None, 24, 24, 128)      512       \n",
            " hNormalization)                                                 \n",
            "                                                                 \n",
            " max_pooling2d_1 (MaxPooling  (None, 12, 12, 128)      0         \n",
            " 2D)                                                             \n",
            "                                                                 \n",
            " conv2d_4 (Conv2D)           (None, 12, 12, 256)       295168    \n",
            "                                                                 \n",
            " conv2d_5 (Conv2D)           (None, 12, 12, 256)       590080    \n",
            "                                                                 \n",
            " batch_normalization_2 (Batc  (None, 12, 12, 256)      1024      \n",
            " hNormalization)                                                 \n",
            "                                                                 \n",
            " max_pooling2d_2 (MaxPooling  (None, 6, 6, 256)        0         \n",
            " 2D)                                                             \n",
            "                                                                 \n",
            " flatten (Flatten)           (None, 9216)              0         \n",
            "                                                                 \n",
            " dense (Dense)               (None, 128)               1179776   \n",
            "                                                                 \n",
            " batch_normalization_3 (Batc  (None, 128)              512       \n",
            " hNormalization)                                                 \n",
            "                                                                 \n",
            " activation (Activation)     (None, 128)               0         \n",
            "                                                                 \n",
            " dropout (Dropout)           (None, 128)               0         \n",
            "                                                                 \n",
            " dense_1 (Dense)             (None, 7)                 903       \n",
            "                                                                 \n",
            " activation_1 (Activation)   (None, 7)                 0         \n",
            "                                                                 \n",
            "=================================================================\n",
            "Total params: 2,787,015\n",
            "Trainable params: 2,785,863\n",
            "Non-trainable params: 1,152\n",
            "_________________________________________________________________\n"
          ]
        }
      ]
    },
    {
      "cell_type": "code",
      "source": [
        "path_model='/content/model_filter.h5' # save model at this location after each epoch\n",
        "#tf.keras.backend.tensorflow_backend.clear_session() # destroys the current graph and builds a new one\n",
        "model=my_model() # create the model\n",
        "tf.keras.backend.set_value(model.optimizer.lr,1e-3) # set the learning rate\n",
        "# fit the model\n",
        "h=model.fit(x=X_train,     \n",
        "            y=y_train, \n",
        "            batch_size=64, \n",
        "            epochs=125, \n",
        "            verbose=1, \n",
        "            validation_data=(X_test,y_test),\n",
        "            shuffle=True,\n",
        "            callbacks=[\n",
        "                ModelCheckpoint(filepath=path_model),\n",
        "            ]\n",
        "            )"
      ],
      "metadata": {
        "id": "GfKU650R4rSw",
        "colab": {
          "base_uri": "https://localhost:8080/"
        },
        "outputId": "1a134fd5-4e23-4194-bba8-a5bcbe69a78e"
      },
      "execution_count": null,
      "outputs": [
        {
          "output_type": "stream",
          "name": "stdout",
          "text": [
            "Epoch 1/125\n",
            "505/505 [==============================] - 29s 40ms/step - loss: 1.6222 - accuracy: 0.3716 - val_loss: 2.0895 - val_accuracy: 0.2285\n",
            "Epoch 2/125\n",
            "505/505 [==============================] - 19s 38ms/step - loss: 1.2636 - accuracy: 0.5187 - val_loss: 1.4759 - val_accuracy: 0.4355\n",
            "Epoch 3/125\n",
            "505/505 [==============================] - 20s 39ms/step - loss: 1.0926 - accuracy: 0.5875 - val_loss: 1.2326 - val_accuracy: 0.5419\n",
            "Epoch 4/125\n",
            "505/505 [==============================] - 20s 40ms/step - loss: 0.9788 - accuracy: 0.6342 - val_loss: 1.1135 - val_accuracy: 0.5857\n",
            "Epoch 5/125\n",
            "505/505 [==============================] - 20s 40ms/step - loss: 0.8532 - accuracy: 0.6858 - val_loss: 1.0846 - val_accuracy: 0.5938\n",
            "Epoch 6/125\n",
            "505/505 [==============================] - 20s 40ms/step - loss: 0.7271 - accuracy: 0.7352 - val_loss: 1.1503 - val_accuracy: 0.5988\n",
            "Epoch 7/125\n",
            "505/505 [==============================] - 20s 40ms/step - loss: 0.5686 - accuracy: 0.7950 - val_loss: 1.2312 - val_accuracy: 0.6057\n",
            "Epoch 8/125\n",
            "505/505 [==============================] - 20s 39ms/step - loss: 0.4184 - accuracy: 0.8555 - val_loss: 1.3362 - val_accuracy: 0.6261\n",
            "Epoch 9/125\n",
            "505/505 [==============================] - 20s 39ms/step - loss: 0.2949 - accuracy: 0.8992 - val_loss: 1.4411 - val_accuracy: 0.5940\n",
            "Epoch 10/125\n",
            "505/505 [==============================] - 20s 40ms/step - loss: 0.2105 - accuracy: 0.9292 - val_loss: 1.7170 - val_accuracy: 0.5932\n",
            "Epoch 11/125\n",
            "505/505 [==============================] - 19s 38ms/step - loss: 0.1653 - accuracy: 0.9448 - val_loss: 1.7811 - val_accuracy: 0.6186\n",
            "Epoch 12/125\n",
            "505/505 [==============================] - 19s 39ms/step - loss: 0.1378 - accuracy: 0.9554 - val_loss: 1.8459 - val_accuracy: 0.6021\n",
            "Epoch 13/125\n",
            "505/505 [==============================] - 20s 40ms/step - loss: 0.1275 - accuracy: 0.9574 - val_loss: 1.8795 - val_accuracy: 0.5949\n",
            "Epoch 14/125\n",
            "505/505 [==============================] - 19s 39ms/step - loss: 0.1163 - accuracy: 0.9635 - val_loss: 1.8352 - val_accuracy: 0.6018\n",
            "Epoch 15/125\n",
            "505/505 [==============================] - 20s 39ms/step - loss: 0.0959 - accuracy: 0.9691 - val_loss: 1.9830 - val_accuracy: 0.6030\n",
            "Epoch 16/125\n",
            "505/505 [==============================] - 19s 39ms/step - loss: 0.0963 - accuracy: 0.9680 - val_loss: 2.1725 - val_accuracy: 0.6038\n",
            "Epoch 17/125\n",
            "505/505 [==============================] - 19s 39ms/step - loss: 0.0914 - accuracy: 0.9702 - val_loss: 2.1073 - val_accuracy: 0.5993\n",
            "Epoch 18/125\n",
            "505/505 [==============================] - 20s 40ms/step - loss: 0.0915 - accuracy: 0.9693 - val_loss: 2.1703 - val_accuracy: 0.6191\n",
            "Epoch 19/125\n",
            "505/505 [==============================] - 19s 39ms/step - loss: 0.0757 - accuracy: 0.9749 - val_loss: 2.1743 - val_accuracy: 0.6030\n",
            "Epoch 20/125\n",
            "505/505 [==============================] - 19s 39ms/step - loss: 0.0702 - accuracy: 0.9762 - val_loss: 2.1269 - val_accuracy: 0.6069\n",
            "Epoch 21/125\n",
            "505/505 [==============================] - 19s 39ms/step - loss: 0.0727 - accuracy: 0.9757 - val_loss: 2.1921 - val_accuracy: 0.6135\n",
            "Epoch 22/125\n",
            "505/505 [==============================] - 20s 40ms/step - loss: 0.0655 - accuracy: 0.9789 - val_loss: 2.3003 - val_accuracy: 0.6113\n",
            "Epoch 23/125\n",
            "505/505 [==============================] - 20s 39ms/step - loss: 0.0670 - accuracy: 0.9768 - val_loss: 2.2462 - val_accuracy: 0.5974\n",
            "Epoch 24/125\n",
            "505/505 [==============================] - 20s 39ms/step - loss: 0.0756 - accuracy: 0.9735 - val_loss: 2.2427 - val_accuracy: 0.6032\n",
            "Epoch 25/125\n",
            "505/505 [==============================] - 20s 39ms/step - loss: 0.0695 - accuracy: 0.9771 - val_loss: 2.3741 - val_accuracy: 0.6043\n",
            "Epoch 26/125\n",
            "505/505 [==============================] - 20s 39ms/step - loss: 0.0523 - accuracy: 0.9827 - val_loss: 2.3715 - val_accuracy: 0.6174\n",
            "Epoch 27/125\n",
            "505/505 [==============================] - 20s 39ms/step - loss: 0.0520 - accuracy: 0.9834 - val_loss: 2.2705 - val_accuracy: 0.6108\n",
            "Epoch 28/125\n",
            "505/505 [==============================] - 20s 39ms/step - loss: 0.0562 - accuracy: 0.9812 - val_loss: 2.2118 - val_accuracy: 0.6160\n",
            "Epoch 29/125\n",
            "505/505 [==============================] - 20s 40ms/step - loss: 0.0520 - accuracy: 0.9817 - val_loss: 2.2591 - val_accuracy: 0.6252\n",
            "Epoch 30/125\n",
            "505/505 [==============================] - 20s 40ms/step - loss: 0.0499 - accuracy: 0.9839 - val_loss: 2.5887 - val_accuracy: 0.6119\n",
            "Epoch 31/125\n",
            "505/505 [==============================] - 19s 39ms/step - loss: 0.0625 - accuracy: 0.9785 - val_loss: 2.4989 - val_accuracy: 0.6372\n",
            "Epoch 32/125\n",
            "505/505 [==============================] - 20s 39ms/step - loss: 0.0548 - accuracy: 0.9810 - val_loss: 2.6503 - val_accuracy: 0.6202\n",
            "Epoch 33/125\n",
            "505/505 [==============================] - 19s 38ms/step - loss: 0.0450 - accuracy: 0.9841 - val_loss: 2.5737 - val_accuracy: 0.6222\n",
            "Epoch 34/125\n",
            "505/505 [==============================] - 19s 38ms/step - loss: 0.0446 - accuracy: 0.9856 - val_loss: 2.4416 - val_accuracy: 0.6297\n",
            "Epoch 35/125\n",
            "505/505 [==============================] - 19s 38ms/step - loss: 0.0376 - accuracy: 0.9878 - val_loss: 2.5800 - val_accuracy: 0.6213\n",
            "Epoch 36/125\n",
            "505/505 [==============================] - 20s 40ms/step - loss: 0.0450 - accuracy: 0.9844 - val_loss: 2.5251 - val_accuracy: 0.6147\n",
            "Epoch 37/125\n",
            "505/505 [==============================] - 19s 38ms/step - loss: 0.0527 - accuracy: 0.9821 - val_loss: 2.7501 - val_accuracy: 0.6060\n",
            "Epoch 38/125\n",
            "505/505 [==============================] - 20s 40ms/step - loss: 0.0435 - accuracy: 0.9850 - val_loss: 2.6957 - val_accuracy: 0.6250\n",
            "Epoch 39/125\n",
            "505/505 [==============================] - 20s 39ms/step - loss: 0.0398 - accuracy: 0.9866 - val_loss: 2.7907 - val_accuracy: 0.6294\n",
            "Epoch 40/125\n",
            "505/505 [==============================] - 20s 39ms/step - loss: 0.0397 - accuracy: 0.9869 - val_loss: 2.6977 - val_accuracy: 0.6303\n",
            "Epoch 41/125\n",
            "505/505 [==============================] - 20s 39ms/step - loss: 0.0390 - accuracy: 0.9872 - val_loss: 2.6253 - val_accuracy: 0.6275\n",
            "Epoch 42/125\n",
            "505/505 [==============================] - 20s 40ms/step - loss: 0.0402 - accuracy: 0.9858 - val_loss: 2.5154 - val_accuracy: 0.6227\n",
            "Epoch 43/125\n",
            "505/505 [==============================] - 20s 39ms/step - loss: 0.0412 - accuracy: 0.9856 - val_loss: 2.3633 - val_accuracy: 0.6255\n",
            "Epoch 44/125\n",
            "505/505 [==============================] - 20s 39ms/step - loss: 0.0330 - accuracy: 0.9888 - val_loss: 2.8334 - val_accuracy: 0.6191\n",
            "Epoch 45/125\n",
            "505/505 [==============================] - 20s 39ms/step - loss: 0.0350 - accuracy: 0.9878 - val_loss: 2.7995 - val_accuracy: 0.6147\n",
            "Epoch 46/125\n",
            "505/505 [==============================] - 20s 39ms/step - loss: 0.0425 - accuracy: 0.9836 - val_loss: 2.7271 - val_accuracy: 0.6069\n",
            "Epoch 47/125\n",
            "505/505 [==============================] - 20s 39ms/step - loss: 0.0389 - accuracy: 0.9859 - val_loss: 2.6346 - val_accuracy: 0.6188\n",
            "Epoch 48/125\n",
            "505/505 [==============================] - 20s 39ms/step - loss: 0.0297 - accuracy: 0.9893 - val_loss: 2.7051 - val_accuracy: 0.6110\n",
            "Epoch 49/125\n",
            "505/505 [==============================] - 20s 39ms/step - loss: 0.0278 - accuracy: 0.9900 - val_loss: 2.6644 - val_accuracy: 0.6108\n",
            "Epoch 50/125\n",
            "505/505 [==============================] - 20s 39ms/step - loss: 0.0314 - accuracy: 0.9885 - val_loss: 2.9764 - val_accuracy: 0.6152\n",
            "Epoch 51/125\n",
            "505/505 [==============================] - 20s 39ms/step - loss: 0.0445 - accuracy: 0.9848 - val_loss: 3.3419 - val_accuracy: 0.5954\n",
            "Epoch 52/125\n",
            "505/505 [==============================] - 20s 39ms/step - loss: 0.0352 - accuracy: 0.9876 - val_loss: 2.8148 - val_accuracy: 0.6208\n",
            "Epoch 53/125\n",
            "505/505 [==============================] - 20s 40ms/step - loss: 0.0292 - accuracy: 0.9899 - val_loss: 2.8383 - val_accuracy: 0.6222\n",
            "Epoch 54/125\n",
            "505/505 [==============================] - 20s 39ms/step - loss: 0.0294 - accuracy: 0.9895 - val_loss: 2.9232 - val_accuracy: 0.6233\n",
            "Epoch 55/125\n",
            "505/505 [==============================] - 20s 39ms/step - loss: 0.0289 - accuracy: 0.9896 - val_loss: 2.8309 - val_accuracy: 0.6230\n",
            "Epoch 56/125\n",
            "505/505 [==============================] - 20s 39ms/step - loss: 0.0289 - accuracy: 0.9898 - val_loss: 2.9946 - val_accuracy: 0.5988\n",
            "Epoch 57/125\n",
            "505/505 [==============================] - 20s 41ms/step - loss: 0.0325 - accuracy: 0.9890 - val_loss: 2.9070 - val_accuracy: 0.6149\n",
            "Epoch 58/125\n",
            "505/505 [==============================] - 20s 39ms/step - loss: 0.0397 - accuracy: 0.9864 - val_loss: 3.0671 - val_accuracy: 0.6138\n",
            "Epoch 59/125\n",
            "505/505 [==============================] - 20s 39ms/step - loss: 0.0233 - accuracy: 0.9919 - val_loss: 2.7631 - val_accuracy: 0.6219\n",
            "Epoch 60/125\n",
            "505/505 [==============================] - 20s 39ms/step - loss: 0.0234 - accuracy: 0.9916 - val_loss: 2.8962 - val_accuracy: 0.6147\n",
            "Epoch 61/125\n",
            "505/505 [==============================] - 20s 39ms/step - loss: 0.0237 - accuracy: 0.9916 - val_loss: 2.9131 - val_accuracy: 0.6102\n",
            "Epoch 62/125\n",
            "505/505 [==============================] - 20s 39ms/step - loss: 0.0337 - accuracy: 0.9879 - val_loss: 3.3938 - val_accuracy: 0.6091\n",
            "Epoch 63/125\n",
            "505/505 [==============================] - 20s 39ms/step - loss: 0.0372 - accuracy: 0.9868 - val_loss: 3.3132 - val_accuracy: 0.6152\n",
            "Epoch 64/125\n",
            "505/505 [==============================] - 20s 39ms/step - loss: 0.0280 - accuracy: 0.9895 - val_loss: 3.0461 - val_accuracy: 0.6205\n",
            "Epoch 65/125\n",
            "505/505 [==============================] - 20s 40ms/step - loss: 0.0287 - accuracy: 0.9903 - val_loss: 2.8905 - val_accuracy: 0.6250\n",
            "Epoch 66/125\n",
            "505/505 [==============================] - 20s 39ms/step - loss: 0.0234 - accuracy: 0.9919 - val_loss: 3.0507 - val_accuracy: 0.6241\n",
            "Epoch 67/125\n",
            "505/505 [==============================] - 20s 40ms/step - loss: 0.0226 - accuracy: 0.9923 - val_loss: 2.7210 - val_accuracy: 0.6186\n",
            "Epoch 68/125\n",
            "505/505 [==============================] - 20s 39ms/step - loss: 0.0221 - accuracy: 0.9918 - val_loss: 2.9454 - val_accuracy: 0.6283\n",
            "Epoch 69/125\n",
            "505/505 [==============================] - 20s 39ms/step - loss: 0.0300 - accuracy: 0.9891 - val_loss: 3.0356 - val_accuracy: 0.6244\n",
            "Epoch 70/125\n",
            "505/505 [==============================] - 20s 40ms/step - loss: 0.0337 - accuracy: 0.9878 - val_loss: 2.9823 - val_accuracy: 0.6241\n",
            "Epoch 71/125\n",
            "505/505 [==============================] - 20s 40ms/step - loss: 0.0262 - accuracy: 0.9900 - val_loss: 2.8773 - val_accuracy: 0.6347\n",
            "Epoch 72/125\n",
            "505/505 [==============================] - 20s 39ms/step - loss: 0.0204 - accuracy: 0.9927 - val_loss: 3.0712 - val_accuracy: 0.6233\n",
            "Epoch 73/125\n",
            "505/505 [==============================] - 20s 39ms/step - loss: 0.0235 - accuracy: 0.9919 - val_loss: 3.3258 - val_accuracy: 0.6211\n",
            "Epoch 74/125\n",
            "505/505 [==============================] - 20s 39ms/step - loss: 0.0282 - accuracy: 0.9898 - val_loss: 3.1245 - val_accuracy: 0.6135\n",
            "Epoch 75/125\n",
            "505/505 [==============================] - 20s 39ms/step - loss: 0.0231 - accuracy: 0.9917 - val_loss: 3.3602 - val_accuracy: 0.6188\n",
            "Epoch 76/125\n",
            "505/505 [==============================] - 20s 39ms/step - loss: 0.0245 - accuracy: 0.9908 - val_loss: 3.2396 - val_accuracy: 0.6286\n",
            "Epoch 77/125\n",
            "505/505 [==============================] - 20s 39ms/step - loss: 0.0224 - accuracy: 0.9913 - val_loss: 2.9539 - val_accuracy: 0.6180\n",
            "Epoch 78/125\n",
            "505/505 [==============================] - 20s 39ms/step - loss: 0.0212 - accuracy: 0.9925 - val_loss: 3.2725 - val_accuracy: 0.6194\n",
            "Epoch 79/125\n",
            "505/505 [==============================] - 20s 39ms/step - loss: 0.0241 - accuracy: 0.9915 - val_loss: 3.6538 - val_accuracy: 0.6133\n",
            "Epoch 80/125\n",
            "505/505 [==============================] - 20s 40ms/step - loss: 0.0212 - accuracy: 0.9915 - val_loss: 3.3207 - val_accuracy: 0.6144\n",
            "Epoch 81/125\n",
            "505/505 [==============================] - 20s 39ms/step - loss: 0.0274 - accuracy: 0.9901 - val_loss: 3.4966 - val_accuracy: 0.6197\n",
            "Epoch 82/125\n",
            "505/505 [==============================] - 20s 39ms/step - loss: 0.0220 - accuracy: 0.9918 - val_loss: 3.2063 - val_accuracy: 0.6264\n",
            "Epoch 83/125\n",
            "505/505 [==============================] - 20s 40ms/step - loss: 0.0214 - accuracy: 0.9921 - val_loss: 3.2035 - val_accuracy: 0.6244\n",
            "Epoch 84/125\n",
            "505/505 [==============================] - 20s 39ms/step - loss: 0.0233 - accuracy: 0.9917 - val_loss: 3.3224 - val_accuracy: 0.6094\n",
            "Epoch 85/125\n",
            "505/505 [==============================] - 20s 39ms/step - loss: 0.0254 - accuracy: 0.9908 - val_loss: 3.0476 - val_accuracy: 0.6174\n",
            "Epoch 86/125\n",
            "505/505 [==============================] - 20s 40ms/step - loss: 0.0212 - accuracy: 0.9921 - val_loss: 3.1143 - val_accuracy: 0.6158\n",
            "Epoch 87/125\n",
            "505/505 [==============================] - 20s 39ms/step - loss: 0.0237 - accuracy: 0.9914 - val_loss: 3.2484 - val_accuracy: 0.6250\n",
            "Epoch 88/125\n",
            "505/505 [==============================] - 20s 39ms/step - loss: 0.0217 - accuracy: 0.9922 - val_loss: 3.5464 - val_accuracy: 0.6085\n",
            "Epoch 89/125\n",
            "505/505 [==============================] - 20s 39ms/step - loss: 0.0210 - accuracy: 0.9924 - val_loss: 3.2355 - val_accuracy: 0.6127\n",
            "Epoch 90/125\n",
            "505/505 [==============================] - 20s 39ms/step - loss: 0.0223 - accuracy: 0.9920 - val_loss: 3.4797 - val_accuracy: 0.6141\n",
            "Epoch 91/125\n",
            "505/505 [==============================] - 20s 39ms/step - loss: 0.0215 - accuracy: 0.9923 - val_loss: 2.9290 - val_accuracy: 0.6149\n",
            "Epoch 92/125\n",
            "505/505 [==============================] - 20s 39ms/step - loss: 0.0221 - accuracy: 0.9922 - val_loss: 3.4383 - val_accuracy: 0.6135\n",
            "Epoch 93/125\n",
            "505/505 [==============================] - 20s 39ms/step - loss: 0.0240 - accuracy: 0.9915 - val_loss: 3.5374 - val_accuracy: 0.6119\n",
            "Epoch 94/125\n",
            "505/505 [==============================] - 20s 39ms/step - loss: 0.0188 - accuracy: 0.9934 - val_loss: 3.4559 - val_accuracy: 0.5901\n",
            "Epoch 95/125\n",
            "505/505 [==============================] - 20s 39ms/step - loss: 0.0199 - accuracy: 0.9924 - val_loss: 3.2322 - val_accuracy: 0.6188\n",
            "Epoch 96/125\n",
            "505/505 [==============================] - 20s 39ms/step - loss: 0.0192 - accuracy: 0.9928 - val_loss: 3.1204 - val_accuracy: 0.6194\n",
            "Epoch 97/125\n",
            "505/505 [==============================] - 20s 39ms/step - loss: 0.0227 - accuracy: 0.9921 - val_loss: 3.2602 - val_accuracy: 0.6141\n",
            "Epoch 98/125\n",
            "505/505 [==============================] - 20s 39ms/step - loss: 0.0191 - accuracy: 0.9930 - val_loss: 3.5440 - val_accuracy: 0.6244\n",
            "Epoch 99/125\n",
            "505/505 [==============================] - 20s 40ms/step - loss: 0.0166 - accuracy: 0.9938 - val_loss: 3.2171 - val_accuracy: 0.6110\n",
            "Epoch 100/125\n",
            "505/505 [==============================] - 20s 40ms/step - loss: 0.0226 - accuracy: 0.9921 - val_loss: 3.5517 - val_accuracy: 0.6082\n",
            "Epoch 101/125\n",
            "505/505 [==============================] - 20s 39ms/step - loss: 0.0221 - accuracy: 0.9917 - val_loss: 3.2968 - val_accuracy: 0.6247\n",
            "Epoch 102/125\n",
            "505/505 [==============================] - 20s 39ms/step - loss: 0.0192 - accuracy: 0.9926 - val_loss: 3.1876 - val_accuracy: 0.6325\n",
            "Epoch 103/125\n",
            "505/505 [==============================] - 20s 39ms/step - loss: 0.0170 - accuracy: 0.9941 - val_loss: 3.3723 - val_accuracy: 0.6180\n",
            "Epoch 104/125\n",
            "505/505 [==============================] - 20s 39ms/step - loss: 0.0188 - accuracy: 0.9929 - val_loss: 3.3155 - val_accuracy: 0.6119\n",
            "Epoch 105/125\n",
            "505/505 [==============================] - 20s 39ms/step - loss: 0.0241 - accuracy: 0.9922 - val_loss: 3.4808 - val_accuracy: 0.6177\n",
            "Epoch 106/125\n",
            "505/505 [==============================] - 20s 39ms/step - loss: 0.0169 - accuracy: 0.9936 - val_loss: 3.6691 - val_accuracy: 0.6211\n",
            "Epoch 107/125\n",
            "505/505 [==============================] - 20s 39ms/step - loss: 0.0197 - accuracy: 0.9931 - val_loss: 3.7248 - val_accuracy: 0.6174\n",
            "Epoch 108/125\n",
            "505/505 [==============================] - 20s 39ms/step - loss: 0.0196 - accuracy: 0.9928 - val_loss: 3.5745 - val_accuracy: 0.6074\n",
            "Epoch 109/125\n",
            "505/505 [==============================] - 20s 39ms/step - loss: 0.0192 - accuracy: 0.9930 - val_loss: 3.4692 - val_accuracy: 0.6186\n",
            "Epoch 110/125\n",
            "505/505 [==============================] - 20s 39ms/step - loss: 0.0216 - accuracy: 0.9928 - val_loss: 3.3000 - val_accuracy: 0.6227\n",
            "Epoch 111/125\n",
            "505/505 [==============================] - 20s 39ms/step - loss: 0.0226 - accuracy: 0.9920 - val_loss: 3.5941 - val_accuracy: 0.6018\n",
            "Epoch 112/125\n",
            "505/505 [==============================] - 20s 39ms/step - loss: 0.0182 - accuracy: 0.9930 - val_loss: 3.3626 - val_accuracy: 0.6213\n",
            "Epoch 113/125\n",
            "505/505 [==============================] - 20s 39ms/step - loss: 0.0167 - accuracy: 0.9934 - val_loss: 3.2173 - val_accuracy: 0.6244\n",
            "Epoch 114/125\n",
            "505/505 [==============================] - 20s 39ms/step - loss: 0.0161 - accuracy: 0.9941 - val_loss: 3.3589 - val_accuracy: 0.6227\n",
            "Epoch 115/125\n",
            "505/505 [==============================] - 20s 40ms/step - loss: 0.0196 - accuracy: 0.9930 - val_loss: 3.4619 - val_accuracy: 0.6213\n",
            "Epoch 116/125\n",
            "505/505 [==============================] - 20s 39ms/step - loss: 0.0170 - accuracy: 0.9938 - val_loss: 3.3662 - val_accuracy: 0.6225\n",
            "Epoch 117/125\n",
            "505/505 [==============================] - 20s 39ms/step - loss: 0.0148 - accuracy: 0.9947 - val_loss: 3.2662 - val_accuracy: 0.6141\n",
            "Epoch 118/125\n",
            "505/505 [==============================] - 20s 39ms/step - loss: 0.0158 - accuracy: 0.9944 - val_loss: 3.6516 - val_accuracy: 0.6233\n",
            "Epoch 119/125\n",
            "505/505 [==============================] - 20s 39ms/step - loss: 0.0162 - accuracy: 0.9937 - val_loss: 3.7702 - val_accuracy: 0.6239\n",
            "Epoch 120/125\n",
            "505/505 [==============================] - 20s 39ms/step - loss: 0.0183 - accuracy: 0.9929 - val_loss: 3.6514 - val_accuracy: 0.6116\n",
            "Epoch 121/125\n",
            "505/505 [==============================] - 20s 40ms/step - loss: 0.0217 - accuracy: 0.9924 - val_loss: 3.7539 - val_accuracy: 0.6149\n",
            "Epoch 122/125\n",
            "505/505 [==============================] - 20s 40ms/step - loss: 0.0194 - accuracy: 0.9929 - val_loss: 3.5847 - val_accuracy: 0.6127\n",
            "Epoch 123/125\n",
            "505/505 [==============================] - 20s 39ms/step - loss: 0.0151 - accuracy: 0.9941 - val_loss: 4.0908 - val_accuracy: 0.6241\n",
            "Epoch 124/125\n",
            "505/505 [==============================] - 20s 39ms/step - loss: 0.0182 - accuracy: 0.9935 - val_loss: 3.5198 - val_accuracy: 0.6152\n",
            "Epoch 125/125\n",
            "505/505 [==============================] - 20s 39ms/step - loss: 0.0152 - accuracy: 0.9937 - val_loss: 3.7109 - val_accuracy: 0.6328\n"
          ]
        }
      ]
    },
    {
      "cell_type": "code",
      "source": [
        "objects = ('angry', 'disgust', 'fear', 'happy', 'sad', 'surprise', 'neutral')\n",
        "y_pos = np.arange(len(objects))\n",
        "print(y_pos)"
      ],
      "metadata": {
        "id": "alO_tIKD4u6Y",
        "colab": {
          "base_uri": "https://localhost:8080/"
        },
        "outputId": "ff7e4c3e-6a3e-4a9e-d963-8e1579a34e04"
      },
      "execution_count": null,
      "outputs": [
        {
          "output_type": "stream",
          "name": "stdout",
          "text": [
            "[0 1 2 3 4 5 6]\n"
          ]
        }
      ]
    },
    {
      "cell_type": "code",
      "source": [
        "\n",
        "def emotion_analysis(emotions):\n",
        "    objects = ['angry', 'disgust', 'fear', 'happy', 'sad', 'surprise', 'neutral']\n",
        "    y_pos = np.arange(len(objects))\n",
        "    plt.bar(y_pos, emotions, align='center', alpha=0.9)\n",
        "    plt.tick_params(axis='x', which='both', pad=10,width=4,length=10)\n",
        "    plt.xticks(y_pos, objects)\n",
        "    plt.ylabel('percentage')\n",
        "    plt.title('emotion')\n",
        "    \n",
        "plt.show()"
      ],
      "metadata": {
        "id": "VR8FmQ3G5NaN"
      },
      "execution_count": null,
      "outputs": []
    },
    {
      "cell_type": "code",
      "source": [
        "\n",
        "y_pred=model.predict(X_test)\n",
        "#print(y_pred)\n",
        "y_test.shape"
      ],
      "metadata": {
        "id": "-i9bstN25PrR",
        "colab": {
          "base_uri": "https://localhost:8080/"
        },
        "outputId": "ea284355-374a-488a-ad44-2e4f5227d5a1"
      },
      "execution_count": null,
      "outputs": [
        {
          "output_type": "stream",
          "name": "stdout",
          "text": [
            "113/113 [==============================] - 1s 6ms/step\n"
          ]
        },
        {
          "output_type": "execute_result",
          "data": {
            "text/plain": [
              "(3589, 7)"
            ]
          },
          "metadata": {},
          "execution_count": 18
        }
      ]
    },
    {
      "cell_type": "code",
      "source": [
        "from IPython.display import display, Javascript\n",
        "from google.colab.output import eval_js\n",
        "from base64 import b64decode\n",
        "\n",
        "def take_photo(filename='photo.jpg', quality=0.8):\n",
        "  js = Javascript('''\n",
        "    async function takePhoto(quality) {\n",
        "      const div = document.createElement('div');\n",
        "      const capture = document.createElement('button');\n",
        "      capture.textContent = 'Capture';\n",
        "      div.appendChild(capture);\n",
        "\n",
        "      const video = document.createElement('video');\n",
        "      video.style.display = 'block';\n",
        "      const stream = await navigator.mediaDevices.getUserMedia({video: true});\n",
        "\n",
        "      document.body.appendChild(div);\n",
        "      div.appendChild(video);\n",
        "      video.srcObject = stream;\n",
        "      await video.play();\n",
        "\n",
        "      // Resize the output to fit the video element.\n",
        "      google.colab.output.setIframeHeight(document.documentElement.scrollHeight, true);\n",
        "\n",
        "      // Wait for Capture to be clicked.\n",
        "      await new Promise((resolve) => capture.onclick = resolve);\n",
        "\n",
        "      const canvas = document.createElement('canvas');\n",
        "      canvas.width = video.videoWidth;\n",
        "      canvas.height = video.videoHeight;\n",
        "      canvas.getContext('2d').drawImage(video, 0, 0);\n",
        "      stream.getVideoTracks()[0].stop();\n",
        "      div.remove();\n",
        "      return canvas.toDataURL('image/jpeg', quality);\n",
        "    }\n",
        "    ''')\n",
        "  display(js)\n",
        "  data = eval_js('takePhoto({})'.format(quality))\n",
        "  binary = b64decode(data.split(',')[1])\n",
        "  with open(filename, 'wb') as f:\n",
        "    f.write(binary)\n",
        "  return filename"
      ],
      "metadata": {
        "id": "M32h3deG5Vwi"
      },
      "execution_count": null,
      "outputs": []
    },
    {
      "cell_type": "code",
      "source": [
        "from IPython.display import Image\n",
        "try:\n",
        "  filename = take_photo()\n",
        "  print('Saved to {}'.format(filename))\n",
        "  \n",
        "  # Show the image which was just taken.\n",
        "  display(Image(filename))\n",
        "except Exception as err:\n",
        "  # Errors will be thrown if the user does not have a webcam or if they do not\n",
        "  # grant the page permission to access it.\n",
        "  print(str(err))"
      ],
      "metadata": {
        "id": "ErNwv7fC5dS6"
      },
      "execution_count": null,
      "outputs": []
    },
    {
      "cell_type": "code",
      "source": [
        "from skimage import io\n",
        "img = tf.keras.utils.load_img('/content/photo.jpg', grayscale=True, target_size=(48, 48))\n",
        "show_img=tf.keras.utils.load_img('/content/photo.jpg', grayscale=False, target_size=(200, 200))\n",
        "x = tf.keras.utils.img_to_array(img)\n",
        "x = np.expand_dims(x, axis = 0)\n",
        "\n",
        "x /= 255\n",
        "\n",
        "custom = model.predict(x)\n",
        "#print(custom[0])\n",
        "emotion_analysis(custom[0])\n",
        "\n",
        "x = np.array(x, 'float32')\n",
        "x = x.reshape([48, 48]);\n",
        "\n",
        "plt.gray()\n",
        "plt.imshow(show_img)\n",
        "plt.show()\n",
        "\n",
        "m=0.000000000000000000001\n",
        "a=custom[0]\n",
        "for i in range(0,len(a)):\n",
        "    if a[i]>m:\n",
        "        m=a[i]\n",
        "        ind=i\n",
        "        \n",
        "print('Expression Prediction:',objects[ind])\n",
        "        "
      ],
      "metadata": {
        "id": "qXA-ZTJ25T6M"
      },
      "execution_count": null,
      "outputs": []
    },
    {
      "cell_type": "code",
      "source": [],
      "metadata": {
        "id": "DWIVP5Hc5sdv"
      },
      "execution_count": null,
      "outputs": []
    }
  ]
}